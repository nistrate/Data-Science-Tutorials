{
  "nbformat": 4,
  "nbformat_minor": 0,
  "metadata": {
    "colab": {
      "name": "Math345_LAB_W1.ipynb",
      "provenance": [],
      "authorship_tag": "ABX9TyPhs535THKAZfD0n0dNzsgf",
      "include_colab_link": true
    },
    "kernelspec": {
      "name": "python3",
      "display_name": "Python 3"
    }
  },
  "cells": [
    {
      "cell_type": "markdown",
      "metadata": {
        "id": "view-in-github",
        "colab_type": "text"
      },
      "source": [
        "<a href=\"https://colab.research.google.com/github/nistrate/Statistics/blob/main/Math345_LAB_W1.ipynb\" target=\"_parent\"><img src=\"https://colab.research.google.com/assets/colab-badge.svg\" alt=\"Open In Colab\"/></a>"
      ]
    },
    {
      "cell_type": "markdown",
      "metadata": {
        "id": "ZmUebkoSIH0Y"
      },
      "source": [
        "**Math 345M LAB - Week 1**\n",
        "\n",
        "In this lab we will be performing a basic analysis of a dataset. We will calculate basic statistical qunatities like mean and standart deviation, along with that we will check for outlier data points using two different methods."
      ]
    },
    {
      "cell_type": "code",
      "metadata": {
        "id": "_S5taN9HePHn"
      },
      "source": [
        "# we start by importing the necessary packages\n",
        "\n",
        "from google.colab import files \n",
        "\n",
        "import pandas as pd\n",
        "import numpy as np\n",
        "\n",
        "import matplotlib.pyplot as plt"
      ],
      "execution_count": 2,
      "outputs": []
    },
    {
      "cell_type": "code",
      "metadata": {
        "colab": {
          "resources": {
            "http://localhost:8080/nbextensions/google.colab/files.js": {
              "data": "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",
              "ok": true,
              "headers": [
                [
                  "content-type",
                  "application/javascript"
                ]
              ],
              "status": 200,
              "status_text": ""
            }
          },
          "base_uri": "https://localhost:8080/",
          "height": 74
        },
        "id": "Vgu-ExT7bXLL",
        "outputId": "5a9f3beb-73b7-4f28-e949-b8340ffdf49e"
      },
      "source": [
        "# Here, we will upload our data from a local machine directly into our colab notebook\n",
        "\n",
        "uploaded = files.upload()\n",
        "\n"
      ],
      "execution_count": 3,
      "outputs": [
        {
          "output_type": "display_data",
          "data": {
            "text/html": [
              "\n",
              "     <input type=\"file\" id=\"files-7bd6e79a-7989-4655-80e0-24c911ffbb5d\" name=\"files[]\" multiple disabled\n",
              "        style=\"border:none\" />\n",
              "     <output id=\"result-7bd6e79a-7989-4655-80e0-24c911ffbb5d\">\n",
              "      Upload widget is only available when the cell has been executed in the\n",
              "      current browser session. Please rerun this cell to enable.\n",
              "      </output>\n",
              "      <script src=\"/nbextensions/google.colab/files.js\"></script> "
            ],
            "text/plain": [
              "<IPython.core.display.HTML object>"
            ]
          },
          "metadata": {
            "tags": []
          }
        },
        {
          "output_type": "stream",
          "text": [
            "Saving beer.csv to beer.csv\n"
          ],
          "name": "stdout"
        }
      ]
    },
    {
      "cell_type": "code",
      "metadata": {
        "id": "7Y85MhMycZu7",
        "colab": {
          "base_uri": "https://localhost:8080/",
          "height": 406
        },
        "outputId": "74e96a35-362c-41a1-ff01-993d7cdb83d1"
      },
      "source": [
        "df = pd.read_csv('beer.csv') \n",
        "\n",
        "df\n",
        "\n",
        "# Here are some basic manipulations that one can do using the panda library\n",
        "\n",
        "# df.head(4) # selects the first 4 rows of the dataset\n",
        "# df.tail(3) # selects the last 3 rows of the dataset\n",
        "\n",
        "# ## Read Headers\n",
        "# print(df.columns)\n",
        "\n",
        "# ## Read each Column\n",
        "# print(df['Brand'][0:5])\n",
        "\n",
        "# ## Read each Row\n",
        "# print(df.iloc[1:4])\n",
        "\n",
        "# ## Read a specific location (R,C)\n",
        "# print(df.iloc[2,2])\n"
      ],
      "execution_count": 19,
      "outputs": [
        {
          "output_type": "execute_result",
          "data": {
            "text/html": [
              "<div>\n",
              "<style scoped>\n",
              "    .dataframe tbody tr th:only-of-type {\n",
              "        vertical-align: middle;\n",
              "    }\n",
              "\n",
              "    .dataframe tbody tr th {\n",
              "        vertical-align: top;\n",
              "    }\n",
              "\n",
              "    .dataframe thead th {\n",
              "        text-align: right;\n",
              "    }\n",
              "</style>\n",
              "<table border=\"1\" class=\"dataframe\">\n",
              "  <thead>\n",
              "    <tr style=\"text-align: right;\">\n",
              "      <th></th>\n",
              "      <th>Brand</th>\n",
              "      <th>Brewery</th>\n",
              "      <th>PercentAlcohol</th>\n",
              "      <th>Calories</th>\n",
              "      <th>Carbohydrates</th>\n",
              "    </tr>\n",
              "  </thead>\n",
              "  <tbody>\n",
              "    <tr>\n",
              "      <th>0</th>\n",
              "      <td>Anchor Steam</td>\n",
              "      <td>Anchor</td>\n",
              "      <td>4.9</td>\n",
              "      <td>153</td>\n",
              "      <td>16.0</td>\n",
              "    </tr>\n",
              "    <tr>\n",
              "      <th>1</th>\n",
              "      <td>Anheuser Busch Natural Light</td>\n",
              "      <td>Anheuser Busch</td>\n",
              "      <td>4.2</td>\n",
              "      <td>95</td>\n",
              "      <td>3.2</td>\n",
              "    </tr>\n",
              "    <tr>\n",
              "      <th>2</th>\n",
              "      <td>Anheuser Busch Natural Ice</td>\n",
              "      <td>Anheuser Busch</td>\n",
              "      <td>5.9</td>\n",
              "      <td>157</td>\n",
              "      <td>8.9</td>\n",
              "    </tr>\n",
              "    <tr>\n",
              "      <th>3</th>\n",
              "      <td>Aspen Edge</td>\n",
              "      <td>Adolph Coors</td>\n",
              "      <td>4.1</td>\n",
              "      <td>94</td>\n",
              "      <td>2.6</td>\n",
              "    </tr>\n",
              "    <tr>\n",
              "      <th>4</th>\n",
              "      <td>Blatz Beer</td>\n",
              "      <td>Pabst</td>\n",
              "      <td>4.8</td>\n",
              "      <td>153</td>\n",
              "      <td>12.5</td>\n",
              "    </tr>\n",
              "    <tr>\n",
              "      <th>...</th>\n",
              "      <td>...</td>\n",
              "      <td>...</td>\n",
              "      <td>...</td>\n",
              "      <td>...</td>\n",
              "      <td>...</td>\n",
              "    </tr>\n",
              "    <tr>\n",
              "      <th>81</th>\n",
              "      <td>Yuengling Ale</td>\n",
              "      <td>D. G. Yuengling</td>\n",
              "      <td>5.0</td>\n",
              "      <td>145</td>\n",
              "      <td>10.0</td>\n",
              "    </tr>\n",
              "    <tr>\n",
              "      <th>82</th>\n",
              "      <td>Yuengling Porter</td>\n",
              "      <td>D. G. Yuengling</td>\n",
              "      <td>4.5</td>\n",
              "      <td>150</td>\n",
              "      <td>14.0</td>\n",
              "    </tr>\n",
              "    <tr>\n",
              "      <th>83</th>\n",
              "      <td>Yuengling Premium Beer</td>\n",
              "      <td>D. G. Yuengling</td>\n",
              "      <td>4.4</td>\n",
              "      <td>135</td>\n",
              "      <td>12.0</td>\n",
              "    </tr>\n",
              "    <tr>\n",
              "      <th>84</th>\n",
              "      <td>Yuengling Light</td>\n",
              "      <td>D. G. Yuengling</td>\n",
              "      <td>3.8</td>\n",
              "      <td>98</td>\n",
              "      <td>6.6</td>\n",
              "    </tr>\n",
              "    <tr>\n",
              "      <th>85</th>\n",
              "      <td>Yuengling Lager</td>\n",
              "      <td>D. G. Yuengling</td>\n",
              "      <td>4.4</td>\n",
              "      <td>135</td>\n",
              "      <td>12.0</td>\n",
              "    </tr>\n",
              "  </tbody>\n",
              "</table>\n",
              "<p>86 rows × 5 columns</p>\n",
              "</div>"
            ],
            "text/plain": [
              "                           Brand          Brewery  ...  Calories  Carbohydrates\n",
              "0                   Anchor Steam           Anchor  ...       153           16.0\n",
              "1   Anheuser Busch Natural Light   Anheuser Busch  ...        95            3.2\n",
              "2     Anheuser Busch Natural Ice   Anheuser Busch  ...       157            8.9\n",
              "3                     Aspen Edge     Adolph Coors  ...        94            2.6\n",
              "4                     Blatz Beer            Pabst  ...       153           12.5\n",
              "..                           ...              ...  ...       ...            ...\n",
              "81                 Yuengling Ale  D. G. Yuengling  ...       145           10.0\n",
              "82              Yuengling Porter  D. G. Yuengling  ...       150           14.0\n",
              "83        Yuengling Premium Beer  D. G. Yuengling  ...       135           12.0\n",
              "84               Yuengling Light  D. G. Yuengling  ...        98            6.6\n",
              "85               Yuengling Lager  D. G. Yuengling  ...       135           12.0\n",
              "\n",
              "[86 rows x 5 columns]"
            ]
          },
          "metadata": {
            "tags": []
          },
          "execution_count": 19
        }
      ]
    },
    {
      "cell_type": "code",
      "metadata": {
        "id": "-zu2f-i6di6h"
      },
      "source": [
        "# Selecting specific columns out of the dataset (using the header's name)\n",
        "carbohydrates  = df['Carbohydrates']\n",
        "calories       = df['Calories']\n",
        "alcohol        = df['PercentAlcohol']"
      ],
      "execution_count": 20,
      "outputs": []
    },
    {
      "cell_type": "markdown",
      "metadata": {
        "id": "yJAamXIDPVS3"
      },
      "source": [
        "**Histogram**\n",
        "\n",
        "First of all we are going to construct a histogram of the data. The purpose of a histogram is to graphically summarize the distribution of a univariate data set. A histogram is a simple graphical repesentation of the data that shows the following information:\n",
        "\n",
        "*   center (i.e., the location) of the data;\n",
        "*   spread (i.e., the scale) of the data;\n",
        "*   skewness of the data;\n",
        "*   presence of outliers;\n",
        "*   presence of multiple modes in the data.\n"
      ]
    },
    {
      "cell_type": "code",
      "metadata": {
        "id": "Bmu11z8A81Fe",
        "colab": {
          "base_uri": "https://localhost:8080/",
          "height": 865
        },
        "outputId": "917b1356-05bc-4566-ef1a-36f416be2271"
      },
      "source": [
        "plt.figure(figsize = (12,12))\n",
        "\n",
        "plt.hist(alcohol, bins = 30, color = 'navy')\n",
        "\n",
        "plt.title(\"ABV Histogram\\n\", fontsize=40)\n",
        "\n",
        "plt.xlabel(\"\\nPercent Alcohol (%)\", fontsize=30)\n",
        "\n",
        "plt.tick_params(direction='out', length=10)\n",
        "\n",
        "plt.xticks(fontsize=25, rotation=90)\n",
        "plt.yticks(fontsize=25, rotation=0)\n",
        "\n",
        "plt.show()\n"
      ],
      "execution_count": 21,
      "outputs": [
        {
          "output_type": "display_data",
          "data": {
            "image/png": "[encoded data removed]",
            "text/plain": [
              "<Figure size 864x864 with 1 Axes>"
            ]
          },
          "metadata": {
            "tags": [],
            "needs_background": "light"
          }
        }
      ]
    },
    {
      "cell_type": "markdown",
      "metadata": {
        "id": "5yWumPoQ82HA"
      },
      "source": [
        "> **Mean and Standard Deviation**\n",
        "\n",
        "Given a dataset $X = \\{x_1, x_2, ..., x_N\\}$, the mean of the dataset is defined as:\n",
        "\n",
        "$$\n",
        "\\bar{x} = \\frac{1}{N}\\sum_{i=1}^{N}x_{i}\n",
        "$$\n",
        "\n",
        "while the standart deviation is definied as:\n",
        "\n",
        "$$\n",
        "s = \\sqrt{\\frac{\\left( \\sum x_i - \\bar{x} \\right)^2}{N-1} }\n",
        "$$\n",
        "\n",
        "> ***Outliers***\n",
        "\n",
        "\n",
        "Outliers are individual values that fall outside of the overall pattern of a data set. This definition is somewhat vague and subjective, so it is helpful to have a rule to apply when determining whether a data point is truly an outlier.\n",
        "In order to identify the outliers in a dataset we will consider two methods: the *Emperical Rule* and the *Interquartile Rule*.\n",
        "\n",
        "> **Empirical Rule**\n",
        "\n",
        "When dealing with a normal distribution (i.e. Gaussian distrbuiton):\n",
        "\n",
        "$$\n",
        "P(x) = \\frac{1}{\\sqrt{2 \\pi \\sigma^2}} e^{\\frac{(x-\\mu)^2}{2\\sigma^2}}\n",
        "$$\n",
        "\n",
        "*   About $68\\%$ of values fall within %1% standart deviation from the mean $\\mu$.\n",
        "*   About $95\\%$ of values fall within %1% standart deviation from the mean $\\mu$.\n",
        "*   About $99.7\\%$ of values fall within %1% standart deviation from the mean $\\mu$.\n",
        "\n",
        "You can use the rule when you are told your data is normal, nearly normal, or if you have a unimodal distribution (i.e. one with a single peak) that is symmetric. \n"
      ]
    },
    {
      "cell_type": "code",
      "metadata": {
        "id": "ik6btkZ1o9LB",
        "colab": {
          "base_uri": "https://localhost:8080/",
          "height": 971
        },
        "outputId": "c06b66ea-3f16-4d11-c94a-13a6ee619a1f"
      },
      "source": [
        "# finding the mean and standart deviation of the dataset\n",
        "mean = alcohol.mean()\n",
        "std = alcohol.std()\n",
        "\n",
        "# 3 standart deviations\n",
        "\n",
        "clean_data_index = [] # array of indeces  (no outliers)\n",
        "outliers_index = []   # array of indeces  (outliers)\n",
        "\n",
        "for index in range ( len(alcohol) ):\n",
        "    if ( alcohol[index] < mean - 3 * std ) or ( alcohol[index] > mean + 3 * std ):\n",
        "        outliers_index.append(index)\n",
        "    else:\n",
        "        clean_data_index.append(index)\n",
        "\n",
        "\n",
        "    # plotting the histogram of data without outliers\n",
        "\n",
        "plt.figure(figsize = (12,12))\n",
        "\n",
        "plt.hist(alcohol[clean_data_index], bins = 30, color = 'navy')\n",
        "\n",
        "plt.title(\"ABV Histogram\\n(no outliers)\\n\", fontsize=40)\n",
        "\n",
        "plt.xlabel(\"\\nPercent Alcohol (%)\", fontsize=30)\n",
        "\n",
        "plt.tick_params(direction='out', length=10)\n",
        "\n",
        "plt.xticks(fontsize=25, rotation=90)\n",
        "plt.yticks(fontsize=25, rotation=0)\n",
        "\n",
        "plt.show()\n",
        "\n",
        "    # presenting the outliers\n",
        "\n",
        "print(\"List of ABV outliers using the Empirical Rule:\")\n",
        "\n",
        "for index in outliers_index:\n",
        "    print(f'\\t {df.iloc[index, 1]} has {df.iloc[index, 2]}% ABV.')"
      ],
      "execution_count": 46,
      "outputs": [
        {
          "output_type": "display_data",
          "data": {
            "image/png": "[encoded data removed]",
            "text/plain": [
              "<Figure size 864x864 with 1 Axes>"
            ]
          },
          "metadata": {
            "tags": [],
            "needs_background": "light"
          }
        },
        {
          "output_type": "stream",
          "text": [
            "List of ABV outliers using the Empirical Rule:\n",
            "\t Anheuser Busch has 0.4% ABV.\n"
          ],
          "name": "stdout"
        }
      ]
    },
    {
      "cell_type": "markdown",
      "metadata": {
        "id": "8KNWleAAjiLA"
      },
      "source": [
        ">**Interquartile Rule**\n",
        "\n",
        "\n",
        "Any set of data can be described by its five-number summary. These five numbers, which give you the information you need to find patterns and outliers, consist of (in ascending order):\n",
        "\n",
        "1) $Q_0$ represents the minimum or lowest value of the dataset.\n",
        "\n",
        "2) $Q_1$ represents a quarter of the way through the list of all data.\n",
        "\n",
        "3) $Q_2$ represents the median of the data set, i.e. the midpoint of the whole list of data.\n",
        "\n",
        "4) $Q_3$ represents three-quarters of the way through the list of all data.\n",
        "\n",
        "5) $Q_4$ represents the maximum or highest value of the data set.\n",
        "\n",
        "Another useful quantity in a dataset is the *interquratile range* which is defined as:\n",
        "\n",
        "$$\n",
        "IQR = Q_3 - Q_1\n",
        "$$\n",
        "\n",
        "\n",
        "**Using the Interquartile Rule to Find Outliers**\n",
        "\n",
        "Though it's not often affected much by them, the interquartile range can be used to detect outliers. This is done using these steps:\n",
        "\n",
        "*   Calculate the interquartile range for the data.\n",
        "*   Multiply the interquartile range ($IQR$) by $1.5$\n",
        "*   Add $1.5 (IQR)$ to the third quartile. Any number greater than this is a suspected outlier.\n",
        "*   Subtract $1.5  (IQR)$ from the first quartile. Any number less than this is a suspected outlier.\n",
        "\n",
        "\n",
        "\n",
        "\n",
        "\n",
        "\n",
        "\n"
      ]
    },
    {
      "cell_type": "code",
      "metadata": {
        "id": "vkXFROVNo82K",
        "colab": {
          "base_uri": "https://localhost:8080/",
          "height": 1000
        },
        "outputId": "fbe17fc3-b874-4aab-8ac1-578450f37a8d"
      },
      "source": [
        "# Interquartile Range Rule\n",
        "Q1,Q3 = np.percentile(sorted(alcohol),[25,75])\n",
        "IQR = Q3-Q1\n",
        "\n",
        "lower_range = Q1 - (1.5 * IQR)\n",
        "upper_range = Q3 + (1.5 * IQR)\n",
        "\n",
        "clean_data_index_IQR = [] # array of indeces  (no outliers)\n",
        "outliers_index_IQR = []   # array of indeces  (outliers)\n",
        "\n",
        "for index in range ( len(alcohol) ):\n",
        "    if ( alcohol[index] < lower_range ) or ( alcohol[index] > upper_range ):\n",
        "        outliers_index_IQR.append(index)\n",
        "    else:\n",
        "        clean_data_index_IQR.append(index)\n",
        "\n",
        "\n",
        "    # plotting the histogram of data without outliers\n",
        "\n",
        "plt.figure(figsize = (12,12))\n",
        "\n",
        "plt.hist(alcohol[clean_data_index_IQR], bins = 30, color = 'navy')\n",
        "\n",
        "plt.title(\"ABV Histogram\\n(no outliers)\\n\", fontsize=40)\n",
        "\n",
        "plt.xlabel(\"\\nPercent Alcohol (%)\", fontsize=30)\n",
        "\n",
        "plt.tick_params(direction='out', length=10)\n",
        "\n",
        "plt.xticks(fontsize=25, rotation=90)\n",
        "plt.yticks(fontsize=25, rotation=0)\n",
        "\n",
        "plt.show()\n",
        "\n",
        "    # presenting the outliers\n",
        "\n",
        "print(\"List of ABV outliers using the Empirical Rule:\")\n",
        "\n",
        "for index in outliers_index_IQR:\n",
        "    print(f'\\t {df.iloc[index, 1]} has {df.iloc[index, 2]}% ABV.')"
      ],
      "execution_count": 56,
      "outputs": [
        {
          "output_type": "display_data",
          "data": {
            "image/png": "[encoded data removed]",
            "text/plain": [
              "<Figure size 864x864 with 1 Axes>"
            ]
          },
          "metadata": {
            "tags": [],
            "needs_background": "light"
          }
        },
        {
          "output_type": "stream",
          "text": [
            "List of ABV outliers using the Empirical Rule:\n",
            "\t G. Heileman has 6.1% ABV.\n",
            "\t Anheuser Busch has 0.4% ABV.\n",
            "\t Red Hook has 6.5% ABV.\n"
          ],
          "name": "stdout"
        }
      ]
    },
    {
      "cell_type": "code",
      "metadata": {
        "id": "j8Ov406uehYT"
      },
      "source": [
        ""
      ],
      "execution_count": null,
      "outputs": []
    },
    {
      "cell_type": "markdown",
      "metadata": {
        "id": "v6bU-3-RDLq1"
      },
      "source": [
        "Sources:\n",
        "\n",
        "https://www.statisticshowto.com/empirical-rule-2/\n",
        "\n",
        "https://www.statisticshowto.com/how-to-find-a-five-number-summary-in-statistics/\n",
        "\n",
        "https://www.itl.nist.gov/div898/handbook/eda/section3/histogra.htm"
      ]
    },
    {
      "cell_type": "code",
      "metadata": {
        "id": "jKCNSx18EPOR"
      },
      "source": [
        ""
      ],
      "execution_count": null,
      "outputs": []
    }
  ]
}