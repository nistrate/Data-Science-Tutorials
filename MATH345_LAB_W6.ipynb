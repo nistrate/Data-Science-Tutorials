{
  "nbformat": 4,
  "nbformat_minor": 0,
  "metadata": {
    "colab": {
      "name": "w6.ipynb",
      "provenance": [],
      "authorship_tag": "ABX9TyOX+tczGTwWH7Beg4B/Ix/y",
      "include_colab_link": true
    },
    "kernelspec": {
      "name": "python3",
      "display_name": "Python 3"
    }
  },
  "cells": [
    {
      "cell_type": "markdown",
      "metadata": {
        "id": "view-in-github",
        "colab_type": "text"
      },
      "source": [
        "<a href=\"https://colab.research.google.com/github/nistrate/Statistics/blob/main/MATH345_LAB_W6.ipynb\" target=\"_parent\"><img src=\"https://colab.research.google.com/assets/colab-badge.svg\" alt=\"Open In Colab\"/></a>"
      ]
    },
    {
      "cell_type": "markdown",
      "metadata": {
        "id": "G4SaZH4eturP"
      },
      "source": [
        "When comparing 2 different distributions:\n",
        "\n",
        "Given two distinct populations:\n",
        " \n",
        "\n",
        "*   if the sample sizes are small, the distributions are important (should be normal)\n",
        "*   if the sample sizes are large, the distributions are not important (need not be normal)\n",
        "\n",
        "\n",
        "The test comparing two independent population means with unknown and possibly unequal population standard\n",
        "deviations is called the Aspin-Welch $t$-test. The degrees of freedom formula was developed by Aspin-Welch.\n",
        "\n",
        "he comparison of two population means is very common. A difference between the two samples depends on both the\n",
        "means and the standard deviations. Very different means can occur by chance if there is great variation among the individual samples. In order to account for the variation, we take the difference of the sample means, $\\bar{X}_{1} - \\bar{X}_{2}$ , and divide by the\n",
        "standard error in order to standardize the difference. The result is a $t$-score test statistic.\n",
        "\n",
        "The test statistic ($t$-test) is calculated as:\n",
        "\n",
        "$$\n",
        "\\frac{(\\bar{X}_{1} - \\bar{X}_{2}) - (\\mu_{1} - \\mu_{2}) }{\\sqrt{\\frac{s_1^2}{n_1} - \\frac{s_2^2}{n_2} } }\n",
        "$$"
      ]
    },
    {
      "cell_type": "markdown",
      "metadata": {
        "id": "UwCBsYPt0A0Q"
      },
      "source": [
        "Problem:\n",
        "\n",
        "Consider the $CO_2$ emssion per capital in the years $1990$ and $2019$.\n",
        "\n",
        "\n",
        "\n",
        "1.   Is there a difference in the average $CO_2$ emission per capital between those years? Test using a $5\\%$ level of significance and a data sample size of $n = 50$ countries.\n",
        "2.   List item\n",
        "\n"
      ]
    },
    {
      "cell_type": "code",
      "metadata": {
        "id": "R7jOPHrPtrvu"
      },
      "source": [
        ""
      ],
      "execution_count": null,
      "outputs": []
    }
  ]
}