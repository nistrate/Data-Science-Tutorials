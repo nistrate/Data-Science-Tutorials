{
 "cells": [
  {
   "cell_type": "markdown",
   "metadata": {
    "colab_type": "text",
    "id": "view-in-github"
   },
   "source": [
    "<a href=\"https://colab.research.google.com/github/nistrate/Statistics/blob/main/Math345_LAB_W1.ipynb\" target=\"_parent\"><img src=\"https://colab.research.google.com/assets/colab-badge.svg\" alt=\"Open In Colab\"/></a>"
   ]
  },
  {
   "cell_type": "markdown",
   "metadata": {},
   "source": [
    "# Tutorial 1: Mean, Standard Deviation, and Finding Outliers"
   ]
  },
  {
   "cell_type": "markdown",
   "metadata": {
    "id": "ZmUebkoSIH0Y"
   },
   "source": [
    "**Math 345M LAB - Week 1**\n",
    "\n",
    "In this lab we will be performing a basic analysis of a dataset. We will calculate basic statistical qunatities like mean and standart deviation, along with that we will check for outlier data points using two different methods."
   ]
  },
  {
   "cell_type": "code",
   "execution_count": 4,
   "metadata": {
    "id": "_S5taN9HePHn"
   },
   "outputs": [],
   "source": [
    "import pandas as pd\n",
    "import numpy as np\n",
    "\n",
    "import matplotlib.pyplot as plt"
   ]
  },
  {
   "cell_type": "code",
   "execution_count": 126,
   "metadata": {
    "colab": {
     "base_uri": "https://localhost:8080/",
     "height": 406
    },
    "id": "7Y85MhMycZu7",
    "outputId": "74e96a35-362c-41a1-ff01-993d7cdb83d1"
   },
   "outputs": [
    {
     "data": {
      "text/html": [
       "<div>\n",
       "<style scoped>\n",
       "    .dataframe tbody tr th:only-of-type {\n",
       "        vertical-align: middle;\n",
       "    }\n",
       "\n",
       "    .dataframe tbody tr th {\n",
       "        vertical-align: top;\n",
       "    }\n",
       "\n",
       "    .dataframe thead th {\n",
       "        text-align: right;\n",
       "    }\n",
       "</style>\n",
       "<table border=\"1\" class=\"dataframe\">\n",
       "  <thead>\n",
       "    <tr style=\"text-align: right;\">\n",
       "      <th></th>\n",
       "      <th>Unnamed: 0</th>\n",
       "      <th>abv</th>\n",
       "      <th>ibu</th>\n",
       "      <th>id</th>\n",
       "      <th>name</th>\n",
       "      <th>style</th>\n",
       "      <th>brewery_id</th>\n",
       "      <th>ounces</th>\n",
       "    </tr>\n",
       "  </thead>\n",
       "  <tbody>\n",
       "    <tr>\n",
       "      <th>0</th>\n",
       "      <td>0</td>\n",
       "      <td>0.050</td>\n",
       "      <td>NaN</td>\n",
       "      <td>1436</td>\n",
       "      <td>Pub Beer</td>\n",
       "      <td>American Pale Lager</td>\n",
       "      <td>408</td>\n",
       "      <td>12.0</td>\n",
       "    </tr>\n",
       "    <tr>\n",
       "      <th>1</th>\n",
       "      <td>1</td>\n",
       "      <td>0.066</td>\n",
       "      <td>NaN</td>\n",
       "      <td>2265</td>\n",
       "      <td>Devil's Cup</td>\n",
       "      <td>American Pale Ale (APA)</td>\n",
       "      <td>177</td>\n",
       "      <td>12.0</td>\n",
       "    </tr>\n",
       "    <tr>\n",
       "      <th>2</th>\n",
       "      <td>2</td>\n",
       "      <td>0.071</td>\n",
       "      <td>NaN</td>\n",
       "      <td>2264</td>\n",
       "      <td>Rise of the Phoenix</td>\n",
       "      <td>American IPA</td>\n",
       "      <td>177</td>\n",
       "      <td>12.0</td>\n",
       "    </tr>\n",
       "    <tr>\n",
       "      <th>3</th>\n",
       "      <td>3</td>\n",
       "      <td>0.090</td>\n",
       "      <td>NaN</td>\n",
       "      <td>2263</td>\n",
       "      <td>Sinister</td>\n",
       "      <td>American Double / Imperial IPA</td>\n",
       "      <td>177</td>\n",
       "      <td>12.0</td>\n",
       "    </tr>\n",
       "    <tr>\n",
       "      <th>4</th>\n",
       "      <td>4</td>\n",
       "      <td>0.075</td>\n",
       "      <td>NaN</td>\n",
       "      <td>2262</td>\n",
       "      <td>Sex and Candy</td>\n",
       "      <td>American IPA</td>\n",
       "      <td>177</td>\n",
       "      <td>12.0</td>\n",
       "    </tr>\n",
       "    <tr>\n",
       "      <th>...</th>\n",
       "      <td>...</td>\n",
       "      <td>...</td>\n",
       "      <td>...</td>\n",
       "      <td>...</td>\n",
       "      <td>...</td>\n",
       "      <td>...</td>\n",
       "      <td>...</td>\n",
       "      <td>...</td>\n",
       "    </tr>\n",
       "    <tr>\n",
       "      <th>2405</th>\n",
       "      <td>2405</td>\n",
       "      <td>0.067</td>\n",
       "      <td>45.0</td>\n",
       "      <td>928</td>\n",
       "      <td>Belgorado</td>\n",
       "      <td>Belgian IPA</td>\n",
       "      <td>424</td>\n",
       "      <td>12.0</td>\n",
       "    </tr>\n",
       "    <tr>\n",
       "      <th>2406</th>\n",
       "      <td>2406</td>\n",
       "      <td>0.052</td>\n",
       "      <td>NaN</td>\n",
       "      <td>807</td>\n",
       "      <td>Rail Yard Ale</td>\n",
       "      <td>American Amber / Red Ale</td>\n",
       "      <td>424</td>\n",
       "      <td>12.0</td>\n",
       "    </tr>\n",
       "    <tr>\n",
       "      <th>2407</th>\n",
       "      <td>2407</td>\n",
       "      <td>0.055</td>\n",
       "      <td>NaN</td>\n",
       "      <td>620</td>\n",
       "      <td>B3K Black Lager</td>\n",
       "      <td>Schwarzbier</td>\n",
       "      <td>424</td>\n",
       "      <td>12.0</td>\n",
       "    </tr>\n",
       "    <tr>\n",
       "      <th>2408</th>\n",
       "      <td>2408</td>\n",
       "      <td>0.055</td>\n",
       "      <td>40.0</td>\n",
       "      <td>145</td>\n",
       "      <td>Silverback Pale Ale</td>\n",
       "      <td>American Pale Ale (APA)</td>\n",
       "      <td>424</td>\n",
       "      <td>12.0</td>\n",
       "    </tr>\n",
       "    <tr>\n",
       "      <th>2409</th>\n",
       "      <td>2409</td>\n",
       "      <td>0.052</td>\n",
       "      <td>NaN</td>\n",
       "      <td>84</td>\n",
       "      <td>Rail Yard Ale (2009)</td>\n",
       "      <td>American Amber / Red Ale</td>\n",
       "      <td>424</td>\n",
       "      <td>12.0</td>\n",
       "    </tr>\n",
       "  </tbody>\n",
       "</table>\n",
       "<p>2410 rows × 8 columns</p>\n",
       "</div>"
      ],
      "text/plain": [
       "      Unnamed: 0    abv   ibu    id                  name  \\\n",
       "0              0  0.050   NaN  1436              Pub Beer   \n",
       "1              1  0.066   NaN  2265           Devil's Cup   \n",
       "2              2  0.071   NaN  2264   Rise of the Phoenix   \n",
       "3              3  0.090   NaN  2263              Sinister   \n",
       "4              4  0.075   NaN  2262         Sex and Candy   \n",
       "...          ...    ...   ...   ...                   ...   \n",
       "2405        2405  0.067  45.0   928             Belgorado   \n",
       "2406        2406  0.052   NaN   807         Rail Yard Ale   \n",
       "2407        2407  0.055   NaN   620       B3K Black Lager   \n",
       "2408        2408  0.055  40.0   145   Silverback Pale Ale   \n",
       "2409        2409  0.052   NaN    84  Rail Yard Ale (2009)   \n",
       "\n",
       "                               style  brewery_id  ounces  \n",
       "0                American Pale Lager         408    12.0  \n",
       "1            American Pale Ale (APA)         177    12.0  \n",
       "2                       American IPA         177    12.0  \n",
       "3     American Double / Imperial IPA         177    12.0  \n",
       "4                       American IPA         177    12.0  \n",
       "...                              ...         ...     ...  \n",
       "2405                     Belgian IPA         424    12.0  \n",
       "2406        American Amber / Red Ale         424    12.0  \n",
       "2407                     Schwarzbier         424    12.0  \n",
       "2408         American Pale Ale (APA)         424    12.0  \n",
       "2409        American Amber / Red Ale         424    12.0  \n",
       "\n",
       "[2410 rows x 8 columns]"
      ]
     },
     "metadata": {},
     "output_type": "display_data"
    }
   ],
   "source": [
    "#Importing dataset\n",
    "\n",
    "df = pd.read_csv('./Datasets/beers.csv') \n",
    "\n",
    "display(df)\n",
    "\n",
    "# Here are some basic manipulations that one can do using the panda library\n",
    "\n",
    "# df.head(4) # selects the first 4 rows of the dataset\n",
    "# df.tail(3) # selects the last 3 rows of the dataset\n",
    "\n",
    "# ## Read Headers\n",
    "# print(df.columns)\n",
    "\n",
    "# ## Read each Column\n",
    "# print(df['Brand'][0:5])\n",
    "\n",
    "# ## Read each Row\n",
    "# print(df.iloc[1:4])\n",
    "\n",
    "# ## Read a specific location (R,C)\n",
    "# print(df.iloc[2,2])\n"
   ]
  },
  {
   "cell_type": "code",
   "execution_count": 40,
   "metadata": {
    "id": "-zu2f-i6di6h"
   },
   "outputs": [],
   "source": [
    "# Selecting specific columns out of the dataset (using the header's name)\n",
    "\n",
    "# dropping beers that have nan value in the column of interest\n",
    "mydf    = df.dropna(subset=['abv'])\n",
    "# selecting the data of interest\n",
    "alcohol = mydf['abv']*100 #to get it in %\n",
    "\n",
    "\n",
    "volume  = df['ounces']\n",
    "name    = df['name']"
   ]
  },
  {
   "cell_type": "markdown",
   "metadata": {
    "id": "yJAamXIDPVS3"
   },
   "source": [
    "**Histogram**\n",
    "\n",
    "First of all we are going to construct a histogram of the data. The purpose of a histogram is to graphically summarize the distribution of a univariate data set. A histogram is a simple graphical repesentation of the data that shows the following information:\n",
    "\n",
    "*   center (i.e., the location) of the data;\n",
    "*   spread (i.e., the scale) of the data;\n",
    "*   skewness of the data;\n",
    "*   presence of outliers;\n",
    "*   presence of multiple modes in the data.\n"
   ]
  },
  {
   "cell_type": "code",
   "execution_count": 41,
   "metadata": {
    "colab": {
     "base_uri": "https://localhost:8080/",
     "height": 865
    },
    "id": "Bmu11z8A81Fe",
    "outputId": "917b1356-05bc-4566-ef1a-36f416be2271"
   },
   "outputs": [
    {
     "data": {
      "image/png": "[encoded data removed]",
      "text/plain": [
       "<Figure size 576x576 with 1 Axes>"
      ]
     },
     "metadata": {
      "needs_background": "light"
     },
     "output_type": "display_data"
    }
   ],
   "source": [
    "plt.figure(figsize = (8,8))\n",
    "\n",
    "plt.hist(alcohol, bins = 30, color = 'navy')\n",
    "\n",
    "plt.title(\"ABV Histogram\\n\", fontsize=40)\n",
    "\n",
    "plt.xlabel(\"\\nPercent Alcohol (%)\", fontsize=30)\n",
    "\n",
    "plt.tick_params(direction='out', length=10)\n",
    "\n",
    "plt.xticks(fontsize=25, rotation=90)\n",
    "plt.yticks(fontsize=25, rotation=0)\n",
    "\n",
    "plt.show()\n"
   ]
  },
  {
   "cell_type": "markdown",
   "metadata": {
    "id": "5yWumPoQ82HA"
   },
   "source": [
    "> **Mean and Standard Deviation**\n",
    "\n",
    "Given a dataset $X = \\{x_1, x_2, ..., x_N\\}$, the mean of the dataset is defined as:\n",
    "\n",
    "$$\n",
    "\\bar{x} = \\frac{1}{N}\\sum_{i=1}^{N}x_{i}\n",
    "$$\n",
    "\n",
    "while the standart deviation is definied as:\n",
    "\n",
    "$$\n",
    "s = \\sqrt{\\frac{\\left( \\sum x_i - \\bar{x} \\right)^2}{N-1} }\n",
    "$$\n",
    "\n",
    "> ***Outliers***\n",
    "\n",
    "\n",
    "Outliers are individual values that fall outside of the overall pattern of a data set. This definition is somewhat vague and subjective, so it is helpful to have a rule to apply when determining whether a data point is truly an outlier.\n",
    "In order to identify the outliers in a dataset we will consider two methods: the *Emperical Rule* and the *Interquartile Rule*.\n",
    "\n",
    "> **Empirical Rule**\n",
    "\n",
    "When dealing with a normal distribution (i.e. Gaussian distrbuiton):\n",
    "\n",
    "$$\n",
    "P(x) = \\frac{1}{\\sqrt{2 \\pi \\sigma^2}} e^{\\frac{(x-\\mu)^2}{2\\sigma^2}}\n",
    "$$\n",
    "\n",
    "*   About $68\\%$ of values fall within $1$ standart deviation from the mean $\\mu$.\n",
    "*   About $95\\%$ of values fall within $2$ standart deviation from the mean $\\mu$.\n",
    "*   About $99.7\\%$ of values fall within $3$ standart deviation from the mean $\\mu$.\n",
    "\n",
    "You can use the rule when you are told your data is normal, nearly normal, or if you have a unimodal distribution (i.e. one with a single peak) that is symmetric. \n"
   ]
  },
  {
   "cell_type": "code",
   "execution_count": 65,
   "metadata": {},
   "outputs": [
    {
     "data": {
      "text/plain": [
       "0.013541733716680264"
      ]
     },
     "execution_count": 65,
     "metadata": {},
     "output_type": "execute_result"
    }
   ],
   "source": [
    "mean = mydf['abv'].mean() # mean of the alcohol percentatge data\n",
    "std  = mydf['abv'].std()  # standard deviation of the alcohol percentatge data\n"
   ]
  },
  {
   "cell_type": "code",
   "execution_count": 94,
   "metadata": {},
   "outputs": [],
   "source": [
    "# finding left side outliers smaller than ( mean - 3 * st dev)\n",
    "leftOutliers = mydf.loc[mydf['abv'] < mean - 3 * std]['Unnamed: 0']\n",
    "# finding left side outliers smaller than ( mean + 3 * st dev)\n",
    "rightOutliers = mydf.loc[mydf['abv'] > mean + 3 * std]['Unnamed: 0']\n",
    "# combining them together\n",
    "outlierIdx = leftOutliers.add(rightOutliers, fill_value = 0)\n",
    "\n",
    "# Outliers\n",
    "outliers = mydf.loc[outlierIdx]\n",
    "\n",
    "# Dropping Outliers\n",
    "cleanData = mydf.drop(outlierIdx)"
   ]
  },
  {
   "cell_type": "code",
   "execution_count": 116,
   "metadata": {
    "colab": {
     "base_uri": "https://localhost:8080/",
     "height": 971
    },
    "id": "ik6btkZ1o9LB",
    "outputId": "c06b66ea-3f16-4d11-c94a-13a6ee619a1f"
   },
   "outputs": [
    {
     "data": {
      "image/png": "[encoded data removed]",
      "text/plain": [
       "<Figure size 576x576 with 1 Axes>"
      ]
     },
     "metadata": {
      "needs_background": "light"
     },
     "output_type": "display_data"
    },
    {
     "name": "stdout",
     "output_type": "stream",
     "text": [
      "List of ABV outliers using the Empirical Rule:\n"
     ]
    },
    {
     "data": {
      "text/html": [
       "<div>\n",
       "<style scoped>\n",
       "    .dataframe tbody tr th:only-of-type {\n",
       "        vertical-align: middle;\n",
       "    }\n",
       "\n",
       "    .dataframe tbody tr th {\n",
       "        vertical-align: top;\n",
       "    }\n",
       "\n",
       "    .dataframe thead th {\n",
       "        text-align: right;\n",
       "    }\n",
       "</style>\n",
       "<table border=\"1\" class=\"dataframe\">\n",
       "  <thead>\n",
       "    <tr style=\"text-align: right;\">\n",
       "      <th></th>\n",
       "      <th>Unnamed: 0</th>\n",
       "      <th>abv</th>\n",
       "      <th>ibu</th>\n",
       "      <th>id</th>\n",
       "      <th>name</th>\n",
       "      <th>style</th>\n",
       "      <th>brewery_id</th>\n",
       "      <th>ounces</th>\n",
       "    </tr>\n",
       "  </thead>\n",
       "  <tbody>\n",
       "    <tr>\n",
       "      <th>70</th>\n",
       "      <td>70</td>\n",
       "      <td>0.125</td>\n",
       "      <td>80.0</td>\n",
       "      <td>2685</td>\n",
       "      <td>London Balling</td>\n",
       "      <td>English Barleywine</td>\n",
       "      <td>1</td>\n",
       "      <td>16.0</td>\n",
       "    </tr>\n",
       "    <tr>\n",
       "      <th>2189</th>\n",
       "      <td>2189</td>\n",
       "      <td>0.120</td>\n",
       "      <td>90.0</td>\n",
       "      <td>2621</td>\n",
       "      <td>Csar</td>\n",
       "      <td>Russian Imperial Stout</td>\n",
       "      <td>17</td>\n",
       "      <td>16.0</td>\n",
       "    </tr>\n",
       "    <tr>\n",
       "      <th>2266</th>\n",
       "      <td>2266</td>\n",
       "      <td>0.001</td>\n",
       "      <td>NaN</td>\n",
       "      <td>606</td>\n",
       "      <td>Scotty K NA</td>\n",
       "      <td>Low Alcohol Beer</td>\n",
       "      <td>522</td>\n",
       "      <td>16.0</td>\n",
       "    </tr>\n",
       "    <tr>\n",
       "      <th>2278</th>\n",
       "      <td>2278</td>\n",
       "      <td>0.128</td>\n",
       "      <td>NaN</td>\n",
       "      <td>2565</td>\n",
       "      <td>Lee Hill Series Vol. 5 - Belgian Style Quadrup...</td>\n",
       "      <td>Quadrupel (Quad)</td>\n",
       "      <td>51</td>\n",
       "      <td>19.2</td>\n",
       "    </tr>\n",
       "    <tr>\n",
       "      <th>2279</th>\n",
       "      <td>2279</td>\n",
       "      <td>0.104</td>\n",
       "      <td>NaN</td>\n",
       "      <td>2564</td>\n",
       "      <td>Lee Hill Series Vol. 4 - Manhattan Style Rye Ale</td>\n",
       "      <td>Rye Beer</td>\n",
       "      <td>51</td>\n",
       "      <td>19.2</td>\n",
       "    </tr>\n",
       "  </tbody>\n",
       "</table>\n",
       "</div>"
      ],
      "text/plain": [
       "      Unnamed: 0    abv   ibu    id  \\\n",
       "70            70  0.125  80.0  2685   \n",
       "2189        2189  0.120  90.0  2621   \n",
       "2266        2266  0.001   NaN   606   \n",
       "2278        2278  0.128   NaN  2565   \n",
       "2279        2279  0.104   NaN  2564   \n",
       "\n",
       "                                                   name  \\\n",
       "70                                       London Balling   \n",
       "2189                                               Csar   \n",
       "2266                                        Scotty K NA   \n",
       "2278  Lee Hill Series Vol. 5 - Belgian Style Quadrup...   \n",
       "2279   Lee Hill Series Vol. 4 - Manhattan Style Rye Ale   \n",
       "\n",
       "                       style  brewery_id  ounces  \n",
       "70        English Barleywine           1    16.0  \n",
       "2189  Russian Imperial Stout          17    16.0  \n",
       "2266        Low Alcohol Beer         522    16.0  \n",
       "2278        Quadrupel (Quad)          51    19.2  \n",
       "2279                Rye Beer          51    19.2  "
      ]
     },
     "metadata": {},
     "output_type": "display_data"
    }
   ],
   "source": [
    "# plotting the histogram of data without outliers\n",
    "\n",
    "plt.figure(figsize = (8,8))\n",
    "\n",
    "plt.hist(cleanData['abv']*100, bins = 50, color = 'navy')\n",
    "plt.hist(outliers['abv']*100, bins = 100, color = 'maroon', label = 'Outliers:Empirical Rule')\n",
    "\n",
    "plt.title(\"ABV Histogram\\n(no outliers)\\n\", fontsize=40)\n",
    "\n",
    "plt.legend(fontsize = 15)\n",
    "\n",
    "plt.xlabel(\"\\nPercent Alcohol (%)\", fontsize=30)\n",
    "\n",
    "plt.tick_params(direction='out', length=10)\n",
    "\n",
    "plt.xticks(fontsize=25, rotation=90)\n",
    "plt.yticks(fontsize=25, rotation=0)\n",
    "\n",
    "plt.show()\n",
    "\n",
    "\n",
    "# presenting the outliers\n",
    "print(\"List of ABV outliers using the Empirical Rule:\")\n",
    "display(outliers)"
   ]
  },
  {
   "cell_type": "markdown",
   "metadata": {
    "id": "8KNWleAAjiLA"
   },
   "source": [
    ">**Interquartile Rule**\n",
    "\n",
    "\n",
    "Any set of data can be described by its five-number summary. These five numbers, which give you the information you need to find patterns and outliers, consist of (in ascending order):\n",
    "\n",
    "1) $Q_0$ represents the minimum or lowest value of the dataset.\n",
    "\n",
    "2) $Q_1$ represents a quarter of the way through the list of all data.\n",
    "\n",
    "3) $Q_2$ represents the median of the data set, i.e. the midpoint of the whole list of data.\n",
    "\n",
    "4) $Q_3$ represents three-quarters of the way through the list of all data.\n",
    "\n",
    "5) $Q_4$ represents the maximum or highest value of the data set.\n",
    "\n",
    "Another useful quantity in a dataset is the *interquratile range* which is defined as:\n",
    "\n",
    "$$\n",
    "IQR = Q_3 - Q_1\n",
    "$$\n",
    "\n",
    "\n",
    "**Using the Interquartile Rule to Find Outliers**\n",
    "\n",
    "Though it's not often affected much by them, the interquartile range can be used to detect outliers. This is done using these steps:\n",
    "\n",
    "*   Calculate the interquartile range for the data.\n",
    "*   Multiply the interquartile range ($IQR$) by $1.5$\n",
    "*   Add $1.5 * (IQR)$ to the third quartile. Any number greater than this is a suspected outlier.\n",
    "*   Subtract $1.5 * (IQR)$ from the first quartile. Any number less than this is a suspected outlier.\n",
    "\n",
    "\n",
    "\n",
    "\n",
    "\n",
    "\n",
    "\n"
   ]
  },
  {
   "cell_type": "code",
   "execution_count": 111,
   "metadata": {
    "colab": {
     "base_uri": "https://localhost:8080/",
     "height": 1000
    },
    "id": "vkXFROVNo82K",
    "outputId": "fbe17fc3-b874-4aab-8ac1-578450f37a8d"
   },
   "outputs": [],
   "source": [
    "# Interquartile Range Rule\n",
    "Q1,Q3 = np.percentile(sorted(mydf['abv']),[25,75])\n",
    "IQR = Q3-Q1\n",
    "\n",
    "# finding outliers based on IQR rule\n",
    "\n",
    "# finding left side outliers smaller than ( Q1 - 1.5 * IQR)\n",
    "leftOutliersIQR = mydf.loc[mydf['abv'] < Q1 - (1.5 * IQR)]['Unnamed: 0']\n",
    "# finding left side outliers smaller than ( Q3 + 1.5 * IQR)\n",
    "rightOutliersIQR = mydf.loc[mydf['abv'] > Q3 + (1.5 * IQR)]['Unnamed: 0']\n",
    "# combining them together\n",
    "outlierIdxIQR = leftOutliersIQR.add(rightOutliersIQR, fill_value = 0)\n",
    "\n",
    "# Outliers\n",
    "outliersIQR = mydf.loc[outlierIdxIQR]\n",
    "\n",
    "# Dropping Outliers\n",
    "cleanDataIQR = mydf.drop(outlierIdxIQR)"
   ]
  },
  {
   "cell_type": "code",
   "execution_count": 117,
   "metadata": {},
   "outputs": [
    {
     "data": {
      "image/png": "[encoded data removed]",
      "text/plain": [
       "<Figure size 576x576 with 1 Axes>"
      ]
     },
     "metadata": {
      "needs_background": "light"
     },
     "output_type": "display_data"
    },
    {
     "name": "stdout",
     "output_type": "stream",
     "text": [
      "List of ABV outliers using the Empirical Rule:\n"
     ]
    },
    {
     "data": {
      "text/html": [
       "<div>\n",
       "<style scoped>\n",
       "    .dataframe tbody tr th:only-of-type {\n",
       "        vertical-align: middle;\n",
       "    }\n",
       "\n",
       "    .dataframe tbody tr th {\n",
       "        vertical-align: top;\n",
       "    }\n",
       "\n",
       "    .dataframe thead th {\n",
       "        text-align: right;\n",
       "    }\n",
       "</style>\n",
       "<table border=\"1\" class=\"dataframe\">\n",
       "  <thead>\n",
       "    <tr style=\"text-align: right;\">\n",
       "      <th></th>\n",
       "      <th>Unnamed: 0</th>\n",
       "      <th>abv</th>\n",
       "      <th>ibu</th>\n",
       "      <th>id</th>\n",
       "      <th>name</th>\n",
       "      <th>style</th>\n",
       "      <th>brewery_id</th>\n",
       "      <th>ounces</th>\n",
       "    </tr>\n",
       "  </thead>\n",
       "  <tbody>\n",
       "    <tr>\n",
       "      <th>70</th>\n",
       "      <td>70</td>\n",
       "      <td>0.125</td>\n",
       "      <td>80.0</td>\n",
       "      <td>2685</td>\n",
       "      <td>London Balling</td>\n",
       "      <td>English Barleywine</td>\n",
       "      <td>1</td>\n",
       "      <td>16.0</td>\n",
       "    </tr>\n",
       "    <tr>\n",
       "      <th>2189</th>\n",
       "      <td>2189</td>\n",
       "      <td>0.120</td>\n",
       "      <td>90.0</td>\n",
       "      <td>2621</td>\n",
       "      <td>Csar</td>\n",
       "      <td>Russian Imperial Stout</td>\n",
       "      <td>17</td>\n",
       "      <td>16.0</td>\n",
       "    </tr>\n",
       "    <tr>\n",
       "      <th>2266</th>\n",
       "      <td>2266</td>\n",
       "      <td>0.001</td>\n",
       "      <td>NaN</td>\n",
       "      <td>606</td>\n",
       "      <td>Scotty K NA</td>\n",
       "      <td>Low Alcohol Beer</td>\n",
       "      <td>522</td>\n",
       "      <td>16.0</td>\n",
       "    </tr>\n",
       "    <tr>\n",
       "      <th>2278</th>\n",
       "      <td>2278</td>\n",
       "      <td>0.128</td>\n",
       "      <td>NaN</td>\n",
       "      <td>2565</td>\n",
       "      <td>Lee Hill Series Vol. 5 - Belgian Style Quadrup...</td>\n",
       "      <td>Quadrupel (Quad)</td>\n",
       "      <td>51</td>\n",
       "      <td>19.2</td>\n",
       "    </tr>\n",
       "    <tr>\n",
       "      <th>2279</th>\n",
       "      <td>2279</td>\n",
       "      <td>0.104</td>\n",
       "      <td>NaN</td>\n",
       "      <td>2564</td>\n",
       "      <td>Lee Hill Series Vol. 4 - Manhattan Style Rye Ale</td>\n",
       "      <td>Rye Beer</td>\n",
       "      <td>51</td>\n",
       "      <td>19.2</td>\n",
       "    </tr>\n",
       "  </tbody>\n",
       "</table>\n",
       "</div>"
      ],
      "text/plain": [
       "      Unnamed: 0    abv   ibu    id  \\\n",
       "70            70  0.125  80.0  2685   \n",
       "2189        2189  0.120  90.0  2621   \n",
       "2266        2266  0.001   NaN   606   \n",
       "2278        2278  0.128   NaN  2565   \n",
       "2279        2279  0.104   NaN  2564   \n",
       "\n",
       "                                                   name  \\\n",
       "70                                       London Balling   \n",
       "2189                                               Csar   \n",
       "2266                                        Scotty K NA   \n",
       "2278  Lee Hill Series Vol. 5 - Belgian Style Quadrup...   \n",
       "2279   Lee Hill Series Vol. 4 - Manhattan Style Rye Ale   \n",
       "\n",
       "                       style  brewery_id  ounces  \n",
       "70        English Barleywine           1    16.0  \n",
       "2189  Russian Imperial Stout          17    16.0  \n",
       "2266        Low Alcohol Beer         522    16.0  \n",
       "2278        Quadrupel (Quad)          51    19.2  \n",
       "2279                Rye Beer          51    19.2  "
      ]
     },
     "metadata": {},
     "output_type": "display_data"
    }
   ],
   "source": [
    "\n",
    "# plotting the histogram of data without outliers\n",
    "\n",
    "plt.figure(figsize = (8,8))\n",
    "\n",
    "plt.hist(cleanDataIQR['abv']*100, bins = 50, color = 'navy')\n",
    "plt.hist(outliersIQR['abv']*100, bins = 100, color = 'maroon', label = 'Outliers:IQR Rule')\n",
    "\n",
    "plt.title(\"ABV Histogram\\n(no outliers)\\n\", fontsize=40)\n",
    "\n",
    "plt.legend(fontsize = 15)\n",
    "\n",
    "plt.xlabel(\"\\nPercent Alcohol (%)\", fontsize=30)\n",
    "\n",
    "plt.tick_params(direction='out', length=10)\n",
    "\n",
    "plt.xticks(fontsize=25, rotation=90)\n",
    "plt.yticks(fontsize=25, rotation=0)\n",
    "\n",
    "plt.show()\n",
    "\n",
    "# presenting the outliers\n",
    "print(\"List of ABV outliers using the IQR Rule:\")\n",
    "display(outliers)"
   ]
  },
  {
   "cell_type": "markdown",
   "metadata": {
    "id": "v6bU-3-RDLq1"
   },
   "source": [
    "Sources:\n",
    "\n",
    "https://www.statisticshowto.com/empirical-rule-2/\n",
    "\n",
    "https://www.statisticshowto.com/how-to-find-a-five-number-summary-in-statistics/\n",
    "\n",
    "https://www.itl.nist.gov/div898/handbook/eda/section3/histogra.htm"
   ]
  }
 ],
 "metadata": {
  "colab": {
   "authorship_tag": "ABX9TyPhs535THKAZfD0n0dNzsgf",
   "include_colab_link": true,
   "name": "Math345_LAB_W1.ipynb",
   "provenance": []
  },
  "kernelspec": {
   "display_name": "Python 3 (ipykernel)",
   "language": "python",
   "name": "python3"
  },
  "language_info": {
   "codemirror_mode": {
    "name": "ipython",
    "version": 3
   },
   "file_extension": ".py",
   "mimetype": "text/x-python",
   "name": "python",
   "nbconvert_exporter": "python",
   "pygments_lexer": "ipython3",
   "version": "3.10.4"
  }
 },
 "nbformat": 4,
 "nbformat_minor": 1
}
