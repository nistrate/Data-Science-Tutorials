{
  "nbformat": 4,
  "nbformat_minor": 0,
  "metadata": {
    "colab": {
      "name": "MATH345_LAB_W4.ipynb",
      "provenance": [],
      "authorship_tag": "ABX9TyNzOUBCOXtf6F7mL7+N6N3L",
      "include_colab_link": true
    },
    "kernelspec": {
      "name": "python3",
      "display_name": "Python 3"
    }
  },
  "cells": [
    {
      "cell_type": "markdown",
      "metadata": {
        "id": "view-in-github",
        "colab_type": "text"
      },
      "source": [
        "<a href=\"https://colab.research.google.com/github/nistrate/Statistics/blob/main/MATH345_LAB_W4.ipynb\" target=\"_parent\"><img src=\"https://colab.research.google.com/assets/colab-badge.svg\" alt=\"Open In Colab\"/></a>"
      ]
    },
    {
      "cell_type": "markdown",
      "metadata": {
        "id": "LaDB5IHrx9aL"
      },
      "source": [
        "**Central Limit Theorem**\n",
        "\n",
        "The *Central Limit Theorem* provides important information about *means of sample* extracted from a larger population. Simply formulated, the theorem states that given samples of size $n$ extracted from a larger population, the sample mean $\\bar{x}$ will approach a Gaussian distribution. \n",
        "\n",
        "*Note:* The CLT holds true for a population with a finite standart deviation.\n",
        "\n",
        "An example of the CLT in action was briefly discussed in the first lab - Binomial Distribution."
      ]
    },
    {
      "cell_type": "markdown",
      "metadata": {
        "id": "wm8F6M1i6Ow2"
      },
      "source": [
        "**Problem: Central Limit Theorem and Confidence Intervals:**\n",
        "\n",
        "For this lab you will work with a dataset of dietary data per country over a series of years. Start by filtering data for a particular year from this dataset and that will serve as your group data. The function `drop()` from the `pandas` library might be useful.\n",
        "\n",
        "1.   Choose the data category (ex. Fruit and Vegetables) that you want to work with and provide a comprehensive description of the dataset.\n",
        "2.   Using the chosen dataset, you will have to prove that the Central Limit Theorem holds true. We suggest extracting samples of size $n = 10$ elements when computing the sample mean $\\bar{x}$. The function `sample` from the `random` library might be useful."
      ]
    },
    {
      "cell_type": "code",
      "metadata": {
        "id": "bj5qebPO6OB9"
      },
      "source": [
        "# Solution: Use as many cells as you need"
      ],
      "execution_count": null,
      "outputs": []
    },
    {
      "cell_type": "code",
      "metadata": {
        "id": "sRyswdRULwKn"
      },
      "source": [
        "# we start by importing the necessary packages\n",
        "\n",
        "from google.colab import files \n",
        "\n",
        "import pandas as pd\n",
        "import numpy as np\n",
        "from scipy.stats import norm, sem\n",
        "\n",
        "import random\n",
        "\n",
        "import matplotlib.pyplot as plt"
      ],
      "execution_count": 2,
      "outputs": []
    },
    {
      "cell_type": "code",
      "metadata": {
        "colab": {
          "resources": {
            "http://localhost:8080/nbextensions/google.colab/files.js": {
              "data": "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",
              "ok": true,
              "headers": [
                [
                  "content-type",
                  "application/javascript"
                ]
              ],
              "status": 200,
              "status_text": ""
            }
          },
          "base_uri": "https://localhost:8080/",
          "height": 72
        },
        "id": "rkpQU_poLxMF",
        "outputId": "64bd77c6-4398-41e8-f102-0d53fe5a491f"
      },
      "source": [
        "# Here, we will upload our data from a local machine directly into our colab notebook\n",
        "\n",
        "uploaded = files.upload()\n",
        "df = pd.read_csv('dietary-compositions-by-commodity-group.csv') "
      ],
      "execution_count": 5,
      "outputs": [
        {
          "output_type": "display_data",
          "data": {
            "text/html": [
              "\n",
              "     <input type=\"file\" id=\"files-2e447754-4138-4af6-8fad-59e3470f7628\" name=\"files[]\" multiple disabled\n",
              "        style=\"border:none\" />\n",
              "     <output id=\"result-2e447754-4138-4af6-8fad-59e3470f7628\">\n",
              "      Upload widget is only available when the cell has been executed in the\n",
              "      current browser session. Please rerun this cell to enable.\n",
              "      </output>\n",
              "      <script src=\"/nbextensions/google.colab/files.js\"></script> "
            ],
            "text/plain": [
              "<IPython.core.display.HTML object>"
            ]
          },
          "metadata": {
            "tags": []
          }
        },
        {
          "output_type": "stream",
          "text": [
            "Saving dietary-compositions-by-commodity-group.csv to dietary-compositions-by-commodity-group.csv\n"
          ],
          "name": "stdout"
        }
      ]
    },
    {
      "cell_type": "code",
      "metadata": {
        "colab": {
          "base_uri": "https://localhost:8080/",
          "height": 521
        },
        "id": "8DDX_tQrMMd5",
        "outputId": "3b5b1e6f-5edb-4a17-92fb-fef2455e7dd6"
      },
      "source": [
        "# Extracting the 2013 year from the dataset\n",
        "indeces_to_drop = []\n",
        "for index in range (len(df['Entity'])):\n",
        "    if df['Year'][index] != 2013:\n",
        "        indeces_to_drop.append(index)\n",
        "\n",
        "df_2013 = df.drop(indeces_to_drop)\n",
        "\n",
        "df_2013"
      ],
      "execution_count": 103,
      "outputs": [
        {
          "output_type": "execute_result",
          "data": {
            "text/html": [
              "<div>\n",
              "<style scoped>\n",
              "    .dataframe tbody tr th:only-of-type {\n",
              "        vertical-align: middle;\n",
              "    }\n",
              "\n",
              "    .dataframe tbody tr th {\n",
              "        vertical-align: top;\n",
              "    }\n",
              "\n",
              "    .dataframe thead th {\n",
              "        text-align: right;\n",
              "    }\n",
              "</style>\n",
              "<table border=\"1\" class=\"dataframe\">\n",
              "  <thead>\n",
              "    <tr style=\"text-align: right;\">\n",
              "      <th></th>\n",
              "      <th>Entity</th>\n",
              "      <th>Code</th>\n",
              "      <th>Year</th>\n",
              "      <th>Cereals and Grains (FAO (2017)) (kilocalories per person per day)</th>\n",
              "      <th>Pulses (FAO (2017)) (kilocalories per person per day)</th>\n",
              "      <th>Starchy Roots (FAO (2017)) (kilocalories per person per day)</th>\n",
              "      <th>Sugar (FAO (2017)) (kilocalories per person per day)</th>\n",
              "      <th>Oils &amp; Fats (FAO (2017)) (kilocalories per person per day)</th>\n",
              "      <th>Meat (FAO (2017)) (kilocalories per person per day)</th>\n",
              "      <th>Dairy &amp; Eggs (FAO (2017)) (kilocalories per person per day)</th>\n",
              "      <th>Fruit and Vegetables (FAO (2017)) (kilocalories per person per day)</th>\n",
              "      <th>Other (FAO (2017)) (kilocalories per person per day)</th>\n",
              "      <th>Alcoholic Beverages (FAO (2017)) (kilocalories per person per day)</th>\n",
              "    </tr>\n",
              "  </thead>\n",
              "  <tbody>\n",
              "    <tr>\n",
              "      <th>52</th>\n",
              "      <td>Afghanistan</td>\n",
              "      <td>AFG</td>\n",
              "      <td>2013</td>\n",
              "      <td>1560</td>\n",
              "      <td>23</td>\n",
              "      <td>15</td>\n",
              "      <td>87</td>\n",
              "      <td>149</td>\n",
              "      <td>68</td>\n",
              "      <td>105</td>\n",
              "      <td>68</td>\n",
              "      <td>15</td>\n",
              "      <td>0.0</td>\n",
              "    </tr>\n",
              "    <tr>\n",
              "      <th>105</th>\n",
              "      <td>Albania</td>\n",
              "      <td>ALB</td>\n",
              "      <td>2013</td>\n",
              "      <td>1144</td>\n",
              "      <td>50</td>\n",
              "      <td>78</td>\n",
              "      <td>197</td>\n",
              "      <td>322</td>\n",
              "      <td>345</td>\n",
              "      <td>579</td>\n",
              "      <td>372</td>\n",
              "      <td>33</td>\n",
              "      <td>73.0</td>\n",
              "    </tr>\n",
              "    <tr>\n",
              "      <th>158</th>\n",
              "      <td>Algeria</td>\n",
              "      <td>DZA</td>\n",
              "      <td>2013</td>\n",
              "      <td>1678</td>\n",
              "      <td>79</td>\n",
              "      <td>126</td>\n",
              "      <td>265</td>\n",
              "      <td>409</td>\n",
              "      <td>103</td>\n",
              "      <td>254</td>\n",
              "      <td>339</td>\n",
              "      <td>36</td>\n",
              "      <td>7.0</td>\n",
              "    </tr>\n",
              "    <tr>\n",
              "      <th>211</th>\n",
              "      <td>Angola</td>\n",
              "      <td>AGO</td>\n",
              "      <td>2013</td>\n",
              "      <td>717</td>\n",
              "      <td>81</td>\n",
              "      <td>729</td>\n",
              "      <td>146</td>\n",
              "      <td>268</td>\n",
              "      <td>214</td>\n",
              "      <td>24</td>\n",
              "      <td>166</td>\n",
              "      <td>13</td>\n",
              "      <td>115.0</td>\n",
              "    </tr>\n",
              "    <tr>\n",
              "      <th>264</th>\n",
              "      <td>Antigua and Barbuda</td>\n",
              "      <td>ATG</td>\n",
              "      <td>2013</td>\n",
              "      <td>651</td>\n",
              "      <td>28</td>\n",
              "      <td>45</td>\n",
              "      <td>302</td>\n",
              "      <td>321</td>\n",
              "      <td>457</td>\n",
              "      <td>239</td>\n",
              "      <td>228</td>\n",
              "      <td>62</td>\n",
              "      <td>84.0</td>\n",
              "    </tr>\n",
              "    <tr>\n",
              "      <th>...</th>\n",
              "      <td>...</td>\n",
              "      <td>...</td>\n",
              "      <td>...</td>\n",
              "      <td>...</td>\n",
              "      <td>...</td>\n",
              "      <td>...</td>\n",
              "      <td>...</td>\n",
              "      <td>...</td>\n",
              "      <td>...</td>\n",
              "      <td>...</td>\n",
              "      <td>...</td>\n",
              "      <td>...</td>\n",
              "      <td>...</td>\n",
              "    </tr>\n",
              "    <tr>\n",
              "      <th>7941</th>\n",
              "      <td>Venezuela</td>\n",
              "      <td>VEN</td>\n",
              "      <td>2013</td>\n",
              "      <td>969</td>\n",
              "      <td>54</td>\n",
              "      <td>92</td>\n",
              "      <td>388</td>\n",
              "      <td>434</td>\n",
              "      <td>271</td>\n",
              "      <td>166</td>\n",
              "      <td>139</td>\n",
              "      <td>27</td>\n",
              "      <td>91.0</td>\n",
              "    </tr>\n",
              "    <tr>\n",
              "      <th>7994</th>\n",
              "      <td>Vietnam</td>\n",
              "      <td>VNM</td>\n",
              "      <td>2013</td>\n",
              "      <td>1552</td>\n",
              "      <td>28</td>\n",
              "      <td>43</td>\n",
              "      <td>100</td>\n",
              "      <td>254</td>\n",
              "      <td>472</td>\n",
              "      <td>42</td>\n",
              "      <td>181</td>\n",
              "      <td>34</td>\n",
              "      <td>39.0</td>\n",
              "    </tr>\n",
              "    <tr>\n",
              "      <th>8047</th>\n",
              "      <td>Yemen</td>\n",
              "      <td>YEM</td>\n",
              "      <td>2013</td>\n",
              "      <td>1355</td>\n",
              "      <td>60</td>\n",
              "      <td>22</td>\n",
              "      <td>273</td>\n",
              "      <td>229</td>\n",
              "      <td>104</td>\n",
              "      <td>64</td>\n",
              "      <td>89</td>\n",
              "      <td>26</td>\n",
              "      <td>1.0</td>\n",
              "    </tr>\n",
              "    <tr>\n",
              "      <th>8100</th>\n",
              "      <td>Zambia</td>\n",
              "      <td>ZMB</td>\n",
              "      <td>2013</td>\n",
              "      <td>1135</td>\n",
              "      <td>17</td>\n",
              "      <td>246</td>\n",
              "      <td>100</td>\n",
              "      <td>266</td>\n",
              "      <td>71</td>\n",
              "      <td>26</td>\n",
              "      <td>30</td>\n",
              "      <td>7</td>\n",
              "      <td>32.0</td>\n",
              "    </tr>\n",
              "    <tr>\n",
              "      <th>8153</th>\n",
              "      <td>Zimbabwe</td>\n",
              "      <td>ZWE</td>\n",
              "      <td>2013</td>\n",
              "      <td>1147</td>\n",
              "      <td>36</td>\n",
              "      <td>54</td>\n",
              "      <td>268</td>\n",
              "      <td>340</td>\n",
              "      <td>91</td>\n",
              "      <td>55</td>\n",
              "      <td>29</td>\n",
              "      <td>14</td>\n",
              "      <td>76.0</td>\n",
              "    </tr>\n",
              "  </tbody>\n",
              "</table>\n",
              "<p>170 rows × 13 columns</p>\n",
              "</div>"
            ],
            "text/plain": [
              "                   Entity  ... Alcoholic Beverages (FAO (2017)) (kilocalories per person per day)\n",
              "52            Afghanistan  ...                                                0.0                \n",
              "105               Albania  ...                                               73.0                \n",
              "158               Algeria  ...                                                7.0                \n",
              "211                Angola  ...                                              115.0                \n",
              "264   Antigua and Barbuda  ...                                               84.0                \n",
              "...                   ...  ...                                                ...                \n",
              "7941            Venezuela  ...                                               91.0                \n",
              "7994              Vietnam  ...                                               39.0                \n",
              "8047                Yemen  ...                                                1.0                \n",
              "8100               Zambia  ...                                               32.0                \n",
              "8153             Zimbabwe  ...                                               76.0                \n",
              "\n",
              "[170 rows x 13 columns]"
            ]
          },
          "metadata": {
            "tags": []
          },
          "execution_count": 103
        }
      ]
    },
    {
      "cell_type": "code",
      "metadata": {
        "colab": {
          "base_uri": "https://localhost:8080/",
          "height": 645
        },
        "id": "SwnrqOOwNMCP",
        "outputId": "d7afa52d-1387-470d-aa76-58e6dab2377f"
      },
      "source": [
        "# Chosing the Sugar column as our population\n",
        "\n",
        "sugar = list(df_2013['Sugar (FAO (2017)) (kilocalories per person per day)'])\n",
        "\n",
        "print(f'2013 Sugar Consumption per day per person\\nMean \\u00b1 St.Dev. :  {np.round(np.mean(sugar),2)} \\u00b1 {np.round(np.std(sugar),2)} Cal')\n",
        "print(f'Lower Bound: {np.round(np.min(sugar),2)} Cal - Country: {df_2013.iloc[list(sugar).index(np.min(sugar)),0]}')\n",
        "print(f'Upper Bound: {np.round(np.max(sugar),2)} Cal - Country: {df_2013.iloc[list(sugar).index(np.max(sugar)),0]}\\n')\n",
        "\n",
        "plt.figure(figsize = (7,7))\n",
        "\n",
        "plt.hist(sugar, bins  = 100, color = 'maroon')\n",
        "\n",
        "plt.title('Histogram\\n2013 Sugar Consumption\\n(per day per person)\\n', fontsize  = 25)\n",
        "\n",
        "plt.xlabel('Consumption (Cal)', fontsize = 20)\n",
        "\n",
        "plt.show()\n",
        "\n"
      ],
      "execution_count": 122,
      "outputs": [
        {
          "output_type": "stream",
          "text": [
            "2013 Sugar Consumption per day per person\n",
            "Mean ± St.Dev. :  288.31 ± 138.87 Cal\n",
            "Lower Bound: 38 Cal - Country: North Korea\n",
            "Upper Bound: 600 Cal - Country: United States\n",
            "\n"
          ],
          "name": "stdout"
        },
        {
          "output_type": "display_data",
          "data": {
            "image/png": "[encoded data removed]",
            "text/plain": [
              "<Figure size 504x504 with 1 Axes>"
            ]
          },
          "metadata": {
            "tags": [],
            "needs_background": "light"
          }
        }
      ]
    },
    {
      "cell_type": "code",
      "metadata": {
        "id": "-Yzj09vWx2oI"
      },
      "source": [
        "#CLT\n",
        "\n",
        "N = 5000 # number of samples\n",
        "mean_list = [] # list of sample means \n",
        "\n",
        "# CLT in action\n",
        "\n",
        "for count in range(N): \n",
        "    selected_list = random.sample(dairy, 10)\n",
        "    mean_list.append(np.mean(selected_list))"
      ],
      "execution_count": 13,
      "outputs": []
    },
    {
      "cell_type": "code",
      "metadata": {
        "colab": {
          "base_uri": "https://localhost:8080/",
          "height": 560
        },
        "id": "cSOYtMEpNSXm",
        "outputId": "2c95d12a-1bc0-400f-bd28-3e870c440642"
      },
      "source": [
        "# Sample Mean Histogram and its normalization \n",
        "\n",
        "norm_list = (mean_list- np.mean(mean_list))/np.std(mean_list)\n",
        "\n",
        "# Plotting\n",
        "\n",
        "plt.figure(figsize = (7,7))\n",
        "\n",
        "plt.hist(mean_list, bins  = 100, label = 'original')\n",
        "plt.hist(norm_list, bins  = 100, label = 'normalized')\n",
        "\n",
        "plt.legend(fontsize = 15)\n",
        "\n",
        "plt.title('Sample Mean Histogram (CLT)\\n2013 Sugar Consumption\\n(per day per person)\\n', fontsize  = 25)\n",
        "\n",
        "plt.xlabel('Consumption (Cal)', fontsize = 20)\n",
        "\n",
        "plt.show()\n",
        "\n"
      ],
      "execution_count": 124,
      "outputs": [
        {
          "output_type": "display_data",
          "data": {
            "image/png": "[encoded data removed]",
            "text/plain": [
              "<Figure size 504x504 with 1 Axes>"
            ]
          },
          "metadata": {
            "tags": [],
            "needs_background": "light"
          }
        }
      ]
    },
    {
      "cell_type": "markdown",
      "metadata": {
        "id": "7UGUgBnsVUdU"
      },
      "source": [
        "**How to Calculate the Confidence Interval**\n",
        "\n",
        "In simple words, calculating the confidence interval involves determining the mean of the sample from a population and determining the margin of error based on a confidence interval. Given a random sample of size $n$ extracted from a large population, we define the confidence interval as:\n",
        "\n",
        "$$\n",
        "\\bar{x} \\pm (z^*)\\times \\left( \\frac{s}{\\sqrt{n}} \\right),\n",
        "$$ \n",
        "where $z^{*}$ is the $\\frac{1+C}{2}$ critical value of a standart normal distribution, while $C$ is the desired confidence.\n",
        "\n"
      ]
    },
    {
      "cell_type": "markdown",
      "metadata": {
        "id": "JZ8tGo9oKXU9"
      },
      "source": [
        "3.   Your next task is to create a function that takes in a sample of data from your population along with a confidence value from the $(0.0,1.0)$ interval and returns the Confidence Interval.\n",
        "4.   Then, using the set function, you will calculate and plot the confidence interval for $C = \\{0.5, ~0.55, \\cdot\\cdot\\cdot , ~0.95 \\}$. Describe your results and their meaning.\n",
        "\n",
        "\n"
      ]
    },
    {
      "cell_type": "code",
      "metadata": {
        "id": "Z0OMct6AXzZw"
      },
      "source": [
        "# Solution: Use as many cells as you need"
      ],
      "execution_count": null,
      "outputs": []
    },
    {
      "cell_type": "code",
      "metadata": {
        "id": "NhSq2KiqcHtE"
      },
      "source": [
        "def mean_confidence_interval(data_sample, confidence):\n",
        "    n = len(data_sample) # number of elements in the extracted sample\n",
        "    m, se = np.mean(data_sample), sem(data_sample) # mean and standard error of the mean\n",
        "    h = se * norm.ppf((1.0 + confidence) / 2.0) # z * st_err_of_mean ( minus sign to keep h positive)\n",
        "    return confidence, m, h # returns confidence mean, deviation from mean"
      ],
      "execution_count": 133,
      "outputs": []
    },
    {
      "cell_type": "code",
      "metadata": {
        "id": "QkWecRzStg9j"
      },
      "source": [
        "confidence_list = np.arange(0.5,1.0,0.05)\n",
        "\n",
        "conf_intervals = []\n",
        "\n",
        "data_sample = random.sample(dairy, 10)\n",
        "\n",
        "for confidence in confidence_list:\n",
        "    conf_intervals.append(mean_confidence_interval(data_sample, confidence))\n"
      ],
      "execution_count": 136,
      "outputs": []
    },
    {
      "cell_type": "code",
      "metadata": {
        "colab": {
          "base_uri": "https://localhost:8080/",
          "height": 723
        },
        "id": "eGuzOd2ezZZM",
        "outputId": "32a75467-b7e8-4a5c-95c5-9f7afb3b503d"
      },
      "source": [
        "plt.figure(figsize = (10,10))\n",
        "\n",
        "for i in range (len(confidence_list)):\n",
        "    plt.errorbar(conf_intervals[i][0]*100, conf_intervals[i][1], yerr=conf_intervals[i][2], fmt='o', color='red', ecolor='green', elinewidth=3, capsize=0)\n",
        "\n",
        "plt.title('Confidence Interval (CLT)\\n2013 Sugar Consumption\\n(per day per person)\\n', fontsize  = 25)\n",
        "\n",
        "plt.xlabel('Confidence (%)', fontsize = 20)\n",
        "plt.ylabel('Consumption (Cal)', fontsize = 20)\n",
        "\n",
        "plt.show()"
      ],
      "execution_count": 145,
      "outputs": [
        {
          "output_type": "display_data",
          "data": {
            "image/png": "[encoded data removed]",
            "text/plain": [
              "<Figure size 720x720 with 1 Axes>"
            ]
          },
          "metadata": {
            "tags": [],
            "needs_background": "light"
          }
        }
      ]
    },
    {
      "cell_type": "markdown",
      "metadata": {
        "id": "tMIe8jTqX8qq"
      },
      "source": [
        "Sources: \n",
        "\n",
        "http://www.stat.yale.edu/Courses/1997-98/101/confint.htm#:~:text=For%20a%20population%20with%20unknown,for%20the%20standard%20normal%20distribution.\n",
        "\n",
        "http://www.stat.yale.edu/Courses/1997-98/101/sampmn.htm#clt\n",
        "\n",
        "https://machinelearningmastery.com/a-gentle-introduction-to-the-central-limit-theorem-for-machine-learning/\n"
      ]
    },
    {
      "cell_type": "code",
      "metadata": {
        "id": "p5CsPfgyYOpf"
      },
      "source": [
        ""
      ],
      "execution_count": null,
      "outputs": []
    }
  ]
}